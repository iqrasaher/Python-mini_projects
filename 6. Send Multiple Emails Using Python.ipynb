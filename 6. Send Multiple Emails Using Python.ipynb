{
 "cells": [
  {
   "cell_type": "markdown",
   "metadata": {},
   "source": [
    "### Send Multiple Emails Using Python"
   ]
  },
  {
   "cell_type": "code",
   "execution_count": null,
   "metadata": {},
   "outputs": [],
   "source": [
    "pip install smtplib"
   ]
  },
  {
   "cell_type": "code",
   "execution_count": null,
   "metadata": {},
   "outputs": [],
   "source": [
    "import smtplib as s \n",
    "ob = s.SMTP('smtp.gmail.com',587) #587 is the port number of gmail\n",
    "ob.ehlo()\n",
    "ob.starttls()\n",
    "ob.login(\"iqra.saher2018@gmail.com\",'*****') # type your password *****\n",
    "subject =\"testing email using python code\"\n",
    "body = \"I Love Coding!!!\"\n",
    "message = \"subject:{}\\n{}\".format(subject,body)\n",
    "listadd=[\"iqra.saher12@gmail.com\"] # type gmail id of receiver\n",
    "ob.sendmail('iqra.saher2018@gmail.com',listadd,message) # sender gmail id\n",
    "print(\"send email\")\n",
    "ob.quit()\n"
   ]
  }
 ],
 "metadata": {
  "kernelspec": {
   "display_name": "Python 3",
   "language": "python",
   "name": "python3"
  },
  "language_info": {
   "codemirror_mode": {
    "name": "ipython",
    "version": 3
   },
   "file_extension": ".py",
   "mimetype": "text/x-python",
   "name": "python",
   "nbconvert_exporter": "python",
   "pygments_lexer": "ipython3",
   "version": "3.11.9"
  }
 },
 "nbformat": 4,
 "nbformat_minor": 2
}
